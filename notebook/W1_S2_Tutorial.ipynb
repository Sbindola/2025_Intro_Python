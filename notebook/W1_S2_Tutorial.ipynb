{
  "cells": [
    {
      "cell_type": "markdown",
      "metadata": {
        "id": "view-in-github",
        "colab_type": "text"
      },
      "source": [
        "<a href=\"https://colab.research.google.com/github/Sbindola/2025_Intro_Python/blob/main/notebook/W1_S2_Tutorial.ipynb\" target=\"_parent\"><img src=\"https://colab.research.google.com/assets/colab-badge.svg\" alt=\"Open In Colab\"/></a>"
      ]
    },
    {
      "cell_type": "markdown",
      "metadata": {
        "id": "As6EA_JX91Ue"
      },
      "source": [
        "# Data Structure, Functions, and Classes\n",
        "\n",
        "In this notebook, we will be discovering how data is stored in Python. We will cover:\n",
        "\n",
        "1. Lists\n",
        "2. Tuples\n",
        "3. Dictionaries\n",
        "\n",
        "Reference:\n",
        "* IBM Congnitive Class - Intro to Python (https://github.com/computationalcore/introduction-to-python)\n",
        "* CUSP UCSL bootcamp 2017 (https://github.com/Mohitsharma44/ucsl17)"
      ]
    },
    {
      "cell_type": "markdown",
      "metadata": {
        "id": "CzbcuCye96oD"
      },
      "source": [
        "## **Lists**\n",
        "Creating lists is very easy in Python. We can create lists by separating different items with commas in square brackets:\\\n",
        "`[Item1,Item2,Item3]`\n",
        "\n",
        "There are many different ways to interact with lists. Exploring them is part of the fun of Python.\n",
        "\n",
        "**list.append(x)** Add an item to the end of the list. Equivalent to `a[len(a):] = [x]`.\n",
        "\n",
        "**list.extend(L)** Extend the list by appending all the items in the given list. Equivalent to `a[len(a):] = L`.\n",
        "\n",
        "**list.insert(i, x)** Insert an item at a given position. The first argument is\n",
        "the index of the element before which to insert, so `a.insert(0, x)` inserts\n",
        "at the front of the list, and `a.insert(len(a), x)` is equivalent to\n",
        "`a.append(x)`.\n",
        "\n",
        "**list.remove(x)** Remove the first item from the list whose value is x. It is an error if there is no such item.\n",
        "\n",
        "**list.pop([i])** Remove the item at the given position in the list, and return it.\n",
        "If no index is specified, `a.pop()` removes and returns the last item in the list.\n",
        "(The square brackets around the i in the method signature denote that the\n",
        " parameter is optional, not that you should type square brackets at that\n",
        " position. You will see this notation frequently in the Python Library Reference.)\n",
        "\n",
        "**list.clear()** Remove all items from the list. Equivalent to `del a[:]`.\n",
        "\n",
        "**list.index(x)** Return the index in the list of the first item whose value is x.\n",
        "It is an error if there is no such item.\n",
        "\n",
        "**list.count(x)** Return the number of times x appears in the list.\n",
        "\n",
        "**list.sort()** Sort the items of the list in place.\n",
        "\n",
        "**list.reverse()** Reverse the elements of the list in place.\n",
        "\n",
        "**list.copy()** Return a shallow copy of the list. Equivalent to `a[:]`."
      ]
    },
    {
      "cell_type": "code",
      "execution_count": 1,
      "metadata": {
        "colab": {
          "base_uri": "https://localhost:8080/"
        },
        "id": "D7hU4VTd98ni",
        "outputId": "f56af595-271f-441d-b2c7-90ddcbf1c07e"
      },
      "outputs": [
        {
          "output_type": "execute_result",
          "data": {
            "text/plain": [
              "list"
            ]
          },
          "metadata": {},
          "execution_count": 1
        }
      ],
      "source": [
        "# Let's experiment with some of these methods!\n",
        "# 1. Create a list first\n",
        "l = ['dog', 'cat', 'fish','chicken','eggs','duck']\n",
        "type(l)"
      ]
    },
    {
      "cell_type": "code",
      "execution_count": 3,
      "metadata": {
        "colab": {
          "base_uri": "https://localhost:8080/"
        },
        "id": "ktyeLG7Z927-",
        "outputId": "105cbad0-aad9-4907-c227-bd4ffef23ac7"
      },
      "outputs": [
        {
          "output_type": "stream",
          "name": "stdout",
          "text": [
            "dog eggs ['dog', 'cat', 'fish'] ['chicken', 'eggs']\n"
          ]
        }
      ],
      "source": [
        "# Slicing the list\n",
        "print(l[0],l[-2],l[0:3],l[-3:-1])"
      ]
    },
    {
      "cell_type": "markdown",
      "metadata": {
        "id": "GLjJPEh59-aj"
      },
      "source": [
        "**Consider memorizing this syntax!**\n",
        "It is central to so much of Python and often proves confusing for users coming from other languages."
      ]
    },
    {
      "cell_type": "markdown",
      "metadata": {
        "id": "gdeI3-vu-DHd"
      },
      "source": [
        "#### **Updating list**\n",
        "Unlike strings and tuples, lists are mutable. You can update the list and change the items whenever you want."
      ]
    },
    {
      "cell_type": "code",
      "execution_count": 5,
      "metadata": {
        "colab": {
          "base_uri": "https://localhost:8080/"
        },
        "id": "yAkzz4d1-AVO",
        "outputId": "14e9989b-d954-4a0b-f3cc-73a1a0dea2f3"
      },
      "outputs": [
        {
          "output_type": "stream",
          "name": "stdout",
          "text": [
            "Original Contents: \n",
            " ['dog', 'cat', 'Tree', 'chicken', 'eggs', 'duck']\n",
            "Original Length of array: \n",
            " 6\n",
            "Modified Contents: \n",
            " ['dog', 'cat', 'eggs', 'duck']\n",
            "Modified Length of array: \n",
            " 4\n"
          ]
        }
      ],
      "source": [
        "my_list = ['dog', 'cat', 'fish','chicken','eggs','duck']\n",
        "my_list[2] = 'Tree'\n",
        "print('Original Contents: \\n', my_list)\n",
        "print('Original Length of array: \\n', len(my_list))\n",
        "\n",
        "# Remove some elements/ changing the size\n",
        "my_list[2:4] = []\n",
        "print('Modified Contents: \\n', my_list)\n",
        "print('Modified Length of array: \\n', len(my_list))"
      ]
    },
    {
      "cell_type": "markdown",
      "metadata": {
        "id": "yHVTz0Dj_GGF"
      },
      "source": [
        "Let modify the list with some list specific methods we have discussed earlier"
      ]
    },
    {
      "cell_type": "code",
      "execution_count": 22,
      "metadata": {
        "colab": {
          "base_uri": "https://localhost:8080/"
        },
        "id": "4oWAQmg2-GA9",
        "outputId": "d695dbb3-5a03-4079-83d0-2b5d653756e1"
      },
      "outputs": [
        {
          "output_type": "stream",
          "name": "stdout",
          "text": [
            "['dog', 'cat', 'fish', 'chicken', 'eggs', 'duck', 'Python']\n",
            "['Julia', 'dog', 'cat', 'fish', 'chicken', 'eggs', 'duck', 'Python']\n"
          ]
        }
      ],
      "source": [
        "#@title  #### **Add new items to list**\n",
        "my_list = ['dog', 'cat', 'fish','chicken','eggs','duck']\n",
        "my_list.append('Python') # It will append the item to the end of the list\n",
        "print(my_list)\n",
        "my_list.insert(0, 'Julia')\n",
        "print(my_list)"
      ]
    },
    {
      "cell_type": "code",
      "execution_count": 23,
      "metadata": {
        "colab": {
          "base_uri": "https://localhost:8080/"
        },
        "id": "0YkFz9AI_LEG",
        "outputId": "c4941d48-d0a4-4ced-8484-901ea16a2407"
      },
      "outputs": [
        {
          "output_type": "stream",
          "name": "stdout",
          "text": [
            "['dog', 'cat', 'fish', 'chicken', 'eggs', 'duck', 'Python']\n",
            "['dog', 'cat', 'fish', 'chicken', 'eggs', 'duck']\n"
          ]
        }
      ],
      "source": [
        "#@title  #### **Remove list items**\n",
        "my_list.pop(0)\n",
        "print(my_list)\n",
        "del(my_list[-1])\n",
        "print(my_list)"
      ]
    },
    {
      "cell_type": "code",
      "execution_count": 24,
      "metadata": {
        "colab": {
          "base_uri": "https://localhost:8080/"
        },
        "id": "T-Y-PmwF_MUQ",
        "outputId": "3d99f0d5-ac17-45aa-e85a-a970ee62fcba"
      },
      "outputs": [
        {
          "output_type": "stream",
          "name": "stdout",
          "text": [
            "1\n",
            "5\n"
          ]
        }
      ],
      "source": [
        "#@title #### **Count, Index**\n",
        "print(my_list.count('fish'))\n",
        "print(my_list.index('duck'))"
      ]
    },
    {
      "cell_type": "code",
      "execution_count": 25,
      "metadata": {
        "colab": {
          "base_uri": "https://localhost:8080/"
        },
        "id": "-mUrFOuA_N2S",
        "outputId": "977ceb0d-be60-4517-e2c7-a40a801a60ce"
      },
      "outputs": [
        {
          "output_type": "stream",
          "name": "stdout",
          "text": [
            "['duck', 'eggs', 'chicken', 'fish', 'cat', 'dog']\n",
            "['cat', 'chicken', 'dog', 'duck', 'eggs', 'fish']\n",
            "['fish', 'eggs', 'duck', 'dog', 'chicken', 'cat']\n"
          ]
        }
      ],
      "source": [
        "#@title #### **Sort, Reverse**\n",
        "my_list = ['dog', 'cat', 'fish','chicken','eggs','duck']\n",
        "my_list.reverse()\n",
        "print(my_list)\n",
        "my_list.sort()\n",
        "print(my_list)\n",
        "my_list.sort(reverse=True)\n",
        "print(my_list)"
      ]
    },
    {
      "cell_type": "code",
      "execution_count": 26,
      "metadata": {
        "colab": {
          "base_uri": "https://localhost:8080/"
        },
        "id": "Y5iyUrwW_Qub",
        "outputId": "d8ead6e7-c663-467f-c0aa-7402e136b241"
      },
      "outputs": [
        {
          "output_type": "stream",
          "name": "stdout",
          "text": [
            "['dog', 'cat', 'fish', 'chicken', 'eggs', 'duck', 'Python', 'Julia', 'C++']\n",
            "['dog', 'cat', 'fish', 'chicken', 'eggs', 'duck', 'Python', 'Julia', 'C++']\n"
          ]
        }
      ],
      "source": [
        "#@title #### **List Concatenation**\n",
        "my_list = ['dog', 'cat', 'fish','chicken','eggs','duck']\n",
        "my_list2 = ['Python','Julia','C++']\n",
        "print(my_list+my_list2)\n",
        "my_list.extend(my_list2)\n",
        "print(my_list)"
      ]
    },
    {
      "cell_type": "markdown",
      "metadata": {
        "id": "iEuE6l38_TDj"
      },
      "source": [
        "#### **Use lists in loops**"
      ]
    },
    {
      "cell_type": "code",
      "execution_count": 27,
      "metadata": {
        "colab": {
          "base_uri": "https://localhost:8080/"
        },
        "id": "DuGwy4v0_adM",
        "outputId": "fc414774-3eeb-4005-8b02-45904c6e9e8b"
      },
      "outputs": [
        {
          "output_type": "stream",
          "name": "stdout",
          "text": [
            "my_list[0] : dog\n",
            "my_list[1] : cat\n",
            "my_list[2] : fish\n",
            "my_list[3] : chicken\n",
            "my_list[4] : eggs\n",
            "my_list[5] : duck\n",
            "my_list[6] : Python\n",
            "my_list[7] : Julia\n",
            "my_list[8] : C++\n"
          ]
        }
      ],
      "source": [
        "for index in range(len(my_list)): # start from 0 and go till the length of the list.\n",
        "    print(\"my_list[{}] : {}\".format(index, my_list[index]))"
      ]
    },
    {
      "cell_type": "code",
      "execution_count": 28,
      "metadata": {
        "colab": {
          "base_uri": "https://localhost:8080/"
        },
        "id": "6FBpPecA_d-0",
        "outputId": "23436aef-ee24-447f-d4c6-bc70ad2acfda"
      },
      "outputs": [
        {
          "output_type": "stream",
          "name": "stdout",
          "text": [
            "my_list[0] : dog\n",
            "my_list[1] : cat\n",
            "my_list[2] : fish\n",
            "my_list[3] : chicken\n",
            "my_list[4] : eggs\n",
            "my_list[5] : duck\n",
            "my_list[6] : Python\n",
            "my_list[7] : Julia\n",
            "my_list[8] : C++\n"
          ]
        }
      ],
      "source": [
        "# We can actually do the same thing with enumerate()\n",
        "for index,items in enumerate(my_list):\n",
        "  print(\"my_list[{}] : {}\".format(index,items))"
      ]
    },
    {
      "cell_type": "markdown",
      "metadata": {
        "id": "X7mxdvzL_swr"
      },
      "source": [
        "**List Comprehension**\n",
        "\n",
        "List comprehension is a syntactic way of creating a list based on the existing list, just like we did when copying the lists above. The basic structure of the syntax includes a for loop that traverses the list and evaluates a condition using the if.. else condition. It then stores the output of the condition as a new list. Let's take a look at a quick example:"
      ]
    },
    {
      "cell_type": "code",
      "execution_count": 30,
      "metadata": {
        "colab": {
          "base_uri": "https://localhost:8080/"
        },
        "id": "Lpg1hilm_gZm",
        "outputId": "93de9697-337e-4690-e55d-30100325926a"
      },
      "outputs": [
        {
          "output_type": "stream",
          "name": "stdout",
          "text": [
            "['dog', 'fish', 'eggs', 'Python', 'C++']\n",
            "[0, 1, 4, 9, 16]\n"
          ]
        }
      ],
      "source": [
        "my_list1 = [elem for index,elem in enumerate(my_list) if index % 2 == 0]\n",
        "print(my_list1)\n",
        "\n",
        "squares = [n**2 for n in range(5)]\n",
        "print(squares)"
      ]
    },
    {
      "cell_type": "markdown",
      "metadata": {
        "id": "JeZ4qEmv_ZdH"
      },
      "source": [
        "**Traverse two lists together with `zip()`**"
      ]
    },
    {
      "cell_type": "code",
      "execution_count": 31,
      "metadata": {
        "colab": {
          "base_uri": "https://localhost:8080/"
        },
        "id": "OXc3dNzA_ztj",
        "outputId": "56bd13a1-d617-45f8-9552-f58e9236d788"
      },
      "outputs": [
        {
          "output_type": "stream",
          "name": "stdout",
          "text": [
            "first: pig second: 0\n",
            "first: duck second: 1\n",
            "first: butterfly second: 2\n"
          ]
        }
      ],
      "source": [
        "# iterate over two lists together uzing zip\n",
        "for item1, item2 in zip(['pig','duck','butterfly'],[0,1,2]):\n",
        "    print('first:', item1, 'second:', item2)"
      ]
    },
    {
      "cell_type": "markdown",
      "metadata": {
        "id": "Gwkq2ppUAeiw"
      },
      "source": [
        "## **Tuples**\n",
        "Tuples are similar to lists, but they are *immutable*—they can’t be extended or modified. What is the point of this? Generally speaking: to pack together inhomogeneous data. Tuples can then be unpacked and distributed by other parts of your code.\n",
        "\n",
        "Tuples may seem confusing at first, but with time you will come to appreciate them."
      ]
    },
    {
      "cell_type": "code",
      "execution_count": 42,
      "metadata": {
        "colab": {
          "base_uri": "https://localhost:8080/"
        },
        "id": "s2DOjqpjAfbE",
        "outputId": "6a8d1e33-7b50-4f95-c4de-fcf1d7845827"
      },
      "outputs": [
        {
          "output_type": "stream",
          "name": "stdout",
          "text": [
            "<class 'tuple'>\n"
          ]
        },
        {
          "output_type": "execute_result",
          "data": {
            "text/plain": [
              "tuple"
            ]
          },
          "metadata": {},
          "execution_count": 42
        }
      ],
      "source": [
        "# tuples are created with parentheses, or just commas\n",
        "a = ('Ryan', 33, True)\n",
        "b = 'Takaya', 25, False\n",
        "print(type(a))\n",
        "type(b)"
      ]
    },
    {
      "cell_type": "code",
      "execution_count": 43,
      "metadata": {
        "colab": {
          "base_uri": "https://localhost:8080/"
        },
        "id": "JFllK1E2Ahed",
        "outputId": "498e5626-839e-45bf-c443-60ae569f3124"
      },
      "outputs": [
        {
          "output_type": "stream",
          "name": "stdout",
          "text": [
            "33\n"
          ]
        }
      ],
      "source": [
        "# can be indexed like arrays\n",
        "print(a[1]) # not the first element!"
      ]
    },
    {
      "cell_type": "code",
      "execution_count": 44,
      "metadata": {
        "colab": {
          "base_uri": "https://localhost:8080/"
        },
        "id": "KRV2yk6TAjzj",
        "outputId": "753db6ba-f7da-4b1b-aa6b-7fa5a467bea4"
      },
      "outputs": [
        {
          "output_type": "stream",
          "name": "stdout",
          "text": [
            "Ryan 33 True\n"
          ]
        }
      ],
      "source": [
        "# and they can be unpacked\n",
        "name, age, status = a\n",
        "print(name,age,status)"
      ]
    },
    {
      "cell_type": "code",
      "execution_count": 45,
      "metadata": {
        "id": "w3QMVyLvAlhC",
        "outputId": "592b4d4b-894e-4c68-edcb-4df33133b1f6",
        "colab": {
          "base_uri": "https://localhost:8080/"
        }
      },
      "outputs": [
        {
          "output_type": "stream",
          "name": "stdout",
          "text": [
            "0\n"
          ]
        }
      ],
      "source": [
        "print(a.index('Ryan'))"
      ]
    },
    {
      "cell_type": "markdown",
      "metadata": {
        "id": "wlCgfXt7Am59"
      },
      "source": [
        "## **Dictionaries**\n",
        "This is an extremely useful data structure. It maps **keys** to **values**.\n",
        "\n",
        "Dictionaries are unordered!"
      ]
    },
    {
      "cell_type": "code",
      "execution_count": 46,
      "metadata": {
        "id": "165sS3z5A4CD"
      },
      "outputs": [],
      "source": [
        "#@title #### **Different ways to create dictionaries**\n",
        "d = {'name': 'Matteo', 'age': 24} # Write your name and your age here\n",
        "e = dict(name='Timothee', age=66) # Write someone else's name and their age here"
      ]
    },
    {
      "cell_type": "code",
      "execution_count": 47,
      "metadata": {
        "colab": {
          "base_uri": "https://localhost:8080/"
        },
        "id": "T94QBiI3A734",
        "outputId": "40552d3d-106d-46c2-ec0c-5e8cc517be6c"
      },
      "outputs": [
        {
          "output_type": "stream",
          "name": "stdout",
          "text": [
            "Matteo\n",
            "name:    Matteo\n",
            "gender:    Not Found\n"
          ]
        }
      ],
      "source": [
        "#@title #### **Access Dictionary Items**\n",
        "print(d['name'])\n",
        "print(\"name:   \", d.get('name'  , 'Not Found'))\n",
        "print(\"gender:   \", d.get('gender', 'Not Found'))"
      ]
    },
    {
      "cell_type": "code",
      "execution_count": 48,
      "metadata": {
        "colab": {
          "base_uri": "https://localhost:8080/"
        },
        "id": "I_XHDwZiA9Pa",
        "outputId": "69b826a7-0d1d-4740-8232-3f646ea4cd50"
      },
      "outputs": [
        {
          "output_type": "execute_result",
          "data": {
            "text/plain": [
              "{'name': 'Matteo', 'age': 24, 'height': (1, 50)}"
            ]
          },
          "metadata": {},
          "execution_count": 48
        }
      ],
      "source": [
        "#@title #### **Updating Dictionary**\n",
        "# Add a new variable-value pair:\n",
        "d['height'] = (1,50) # a tuple, e.g. your height in (meters,centimeters)\n",
        "d"
      ]
    },
    {
      "cell_type": "code",
      "execution_count": 49,
      "metadata": {
        "colab": {
          "base_uri": "https://localhost:8080/"
        },
        "id": "rqIhYfWBA-ar",
        "outputId": "e036bba9-7560-40bc-98c2-9c09c8073888"
      },
      "outputs": [
        {
          "output_type": "stream",
          "name": "stdout",
          "text": [
            "{'name': 'Matteo', 'age': 24, 'height': (1, 50), 'location': 'Lausanne', 'nationality': 'CH', 'birth_year': '2021'}\n"
          ]
        }
      ],
      "source": [
        "#@title #### **Append Dictionary**\n",
        "# update() add two dictionary together\n",
        "newdict = dict(location='Lausanne',nationality='CH',birth_year='2021')\n",
        "d.update(newdict)\n",
        "print(d)"
      ]
    },
    {
      "cell_type": "code",
      "execution_count": 50,
      "metadata": {
        "colab": {
          "base_uri": "https://localhost:8080/"
        },
        "id": "v_1gPA7jA_qB",
        "outputId": "a0b5f332-a3ea-42af-9f04-dc1fc617c555"
      },
      "outputs": [
        {
          "output_type": "stream",
          "name": "stdout",
          "text": [
            "Identical? True\n"
          ]
        }
      ],
      "source": [
        "#@title #### **Remove Elements from Dictionary**\n",
        "# pop(),del()\n",
        "d2 = d.copy()\n",
        "d2.pop('age')\n",
        "del d['age']\n",
        "print(f\"Identical? {d==d2}\")"
      ]
    },
    {
      "cell_type": "code",
      "execution_count": 51,
      "metadata": {
        "colab": {
          "base_uri": "https://localhost:8080/"
        },
        "id": "XLZvTWWFBFKd",
        "outputId": "5e8c0f29-9004-4919-85d6-fd281f57f3c7"
      },
      "outputs": [
        {
          "output_type": "stream",
          "name": "stdout",
          "text": [
            "name Matteo\n",
            "height (1, 50)\n",
            "location Lausanne\n",
            "nationality CH\n",
            "birth_year 2021\n"
          ]
        }
      ],
      "source": [
        "#@title #### **Traverse Dictionary**\n",
        "# iterate over keys\n",
        "for k in d:\n",
        "    print(k, d[k])"
      ]
    },
    {
      "cell_type": "code",
      "execution_count": 52,
      "metadata": {
        "colab": {
          "base_uri": "https://localhost:8080/"
        },
        "id": "oR4Wt1faBGen",
        "outputId": "e0b6bdb1-6216-4b93-e697-ba0b391ed931"
      },
      "outputs": [
        {
          "output_type": "stream",
          "name": "stdout",
          "text": [
            "name Matteo\n",
            "height (1, 50)\n",
            "location Lausanne\n",
            "nationality CH\n",
            "birth_year 2021\n"
          ]
        }
      ],
      "source": [
        "# better way\n",
        "for key, val in d.items():\n",
        "    print(key, val)"
      ]
    },
    {
      "cell_type": "code",
      "execution_count": 53,
      "metadata": {
        "colab": {
          "base_uri": "https://localhost:8080/"
        },
        "id": "ZvXtIujQBH5N",
        "outputId": "5204eb22-3437-497d-b938-3774c1473a04"
      },
      "outputs": [
        {
          "output_type": "stream",
          "name": "stdout",
          "text": [
            "['name', 'height', 'location', 'nationality', 'birth_year']\n",
            "['Matteo', (1, 50), 'Lausanne', 'CH', '2021']\n",
            "[('name', 'Matteo'), ('height', (1, 50)), ('location', 'Lausanne'), ('nationality', 'CH'), ('birth_year', '2021')]\n"
          ]
        }
      ],
      "source": [
        "print(list(d.keys()))\n",
        "print(list(d.values()))\n",
        "print(list(d.items()))"
      ]
    },
    {
      "cell_type": "code",
      "execution_count": 55,
      "metadata": {
        "colab": {
          "base_uri": "https://localhost:8080/"
        },
        "id": "xA9cTpBrBJiH",
        "outputId": "99b00d75-a709-4829-d0f7-ac471850b132"
      },
      "outputs": [
        {
          "output_type": "stream",
          "name": "stdout",
          "text": [
            "NY : New York\n",
            "NJ : New Jersey\n",
            "CA : California\n",
            "AL : Alabama\n"
          ]
        }
      ],
      "source": [
        "#@title #### **Sort Dictionary**\n",
        "# sorted()\n",
        "states_dict = {'AL': 'Alabama', 'CA': 'California',\n",
        "               'NJ': 'New Jersey', 'NY': 'New York'}\n",
        "sorted_keys = sorted(list(states_dict.keys()), reverse=True)\n",
        "for key in sorted_keys:\n",
        "    print('{} : {}'.format(key, states_dict[key]))"
      ]
    },
    {
      "cell_type": "markdown",
      "metadata": {
        "id": "hrRHXOpMBzwQ"
      },
      "source": [
        "## **Functions and Classes**\n",
        "For longer and more complex tasks, it is important to organize your code into reuseable elements. For example, if you find yourself cutting and pasting the same or similar lines of code over and over, you probably need to define a *function* to encapsulate that code and make it reusable. An important principle in programming in **DRY**: “don’t repeat yourself”. Repetition is tedious and opens you up to errors. Strive for elegance and simplicity in your programs.\n",
        "\n",
        "We can use the following two things to organize our code:\n",
        "\n",
        "1. Functions\n",
        "2. Classes\n",
        "\n",
        "Reference:\n",
        "* IBM Congnitive Class - Intro to Python (https://github.com/computationalcore/introduction-to-python)\n",
        "* CUSP UCSL bootcamp 2017 (https://github.com/Mohitsharma44/ucsl17)\n",
        "* Introduction to Python (Ryan Abernathy; https://rabernat.github.io/research_computing/intro-to-python.html)"
      ]
    },
    {
      "cell_type": "markdown",
      "metadata": {
        "id": "1nCJwF_EB5jT"
      },
      "source": [
        "### **Functions**\n",
        "Functions are a central part of advanced python programming. Functions take some inputs (“arguments”) and do something in response. Usually functions return something, but not always."
      ]
    },
    {
      "cell_type": "code",
      "execution_count": 59,
      "metadata": {
        "id": "QDxK4lbAB0tJ"
      },
      "outputs": [],
      "source": [
        "#@title **Define a Function**\n",
        "def say_hello():\n",
        "    \"\"\"Return the word hello.\"\"\"\n",
        "    return 'Hello'\n",
        "\n",
        "def say_hello_to(name=None):\n",
        "  \"\"\"\n",
        "  Return the word hello to someone\n",
        "  \"\"\"\n",
        "  return 'Hello, '+str(name)\n",
        "\n",
        "# take an optional keyword argument\n",
        "def say_hello_or_hola(name, french=True):\n",
        "    \"\"\"Say hello in multiple languages.\"\"\"\n",
        "    if french:\n",
        "        greeting = 'Bonjour '\n",
        "    else:\n",
        "        greeting = 'Hello '\n",
        "    return greeting + name\n",
        "\n",
        "# flexible number of arguments\n",
        "def say_hello_to_everyone(*args):\n",
        "    return ['Bonjour ' + str(a) for a in args]"
      ]
    },
    {
      "cell_type": "code",
      "execution_count": 60,
      "metadata": {
        "colab": {
          "base_uri": "https://localhost:8080/"
        },
        "id": "lc7m5iPKB28A",
        "outputId": "8169dca1-da96-4577-81a2-de1d16ab2224"
      },
      "outputs": [
        {
          "output_type": "stream",
          "name": "stdout",
          "text": [
            "Hello\n",
            "Hello\n"
          ]
        }
      ],
      "source": [
        "print(say_hello())\n",
        "res = say_hello()\n",
        "print(res)"
      ]
    },
    {
      "cell_type": "code",
      "execution_count": 62,
      "metadata": {
        "id": "3mYjOk7QB_km",
        "outputId": "8315ddee-83c5-4365-f316-5ccf098c93c7",
        "colab": {
          "base_uri": "https://localhost:8080/"
        }
      },
      "outputs": [
        {
          "output_type": "stream",
          "name": "stdout",
          "text": [
            "Bonjour Frédéric\n",
            "Hello Frédéric\n",
            "['Bonjour Niklas', 'Bonjour Valérie', 'Bonjour Marie-Élodie']\n"
          ]
        }
      ],
      "source": [
        "print(say_hello_or_hola('Frédéric', french=True)) # Greet the rector\n",
        "print(say_hello_or_hola('Frédéric', french=False))\n",
        "print(say_hello_to_everyone('Niklas', 'Valérie', 'Marie-Élodie')) # Greet the deans"
      ]
    },
    {
      "cell_type": "code",
      "execution_count": 63,
      "metadata": {
        "id": "4AgbvjCUCGOh",
        "outputId": "68ede96c-ad0a-4eae-ef2f-8be6c0f62815",
        "colab": {
          "base_uri": "https://localhost:8080/"
        }
      },
      "outputs": [
        {
          "output_type": "stream",
          "name": "stdout",
          "text": [
            "20\n"
          ]
        }
      ],
      "source": [
        "#@title **Anonymous Function**\n",
        "mul = lambda a, b: a*b\n",
        "print(mul(4,5))"
      ]
    },
    {
      "cell_type": "code",
      "execution_count": 64,
      "metadata": {
        "id": "vJBzGbhBCKMp",
        "outputId": "4018b463-23dd-46b3-ffc6-ffdf6ecd38a8",
        "colab": {
          "base_uri": "https://localhost:8080/"
        }
      },
      "outputs": [
        {
          "output_type": "execute_result",
          "data": {
            "text/plain": [
              "[1, 4, 9, 16, 25, 36, 49, 64, 81]"
            ]
          },
          "metadata": {},
          "execution_count": 64
        }
      ],
      "source": [
        "#@title **Map Function**\n",
        "# syntax: map(function,iterator)\n",
        "numbers = range(1, 10)\n",
        "def square(num):\n",
        "    return num**2\n",
        "list(map(square, numbers))\n",
        "# The equivalent of this function is:\n",
        "# result = []\n",
        "# for i in range(1, 10):\n",
        "#     result.append(i**2)"
      ]
    },
    {
      "cell_type": "code",
      "execution_count": 65,
      "metadata": {
        "id": "Y7wsf8UACMZl",
        "outputId": "a6080f19-1c80-482d-9a96-c79f74d2e9ef",
        "colab": {
          "base_uri": "https://localhost:8080/"
        }
      },
      "outputs": [
        {
          "output_type": "execute_result",
          "data": {
            "text/plain": [
              "[1, 4, 9, 16, 25, 36, 49, 64, 81]"
            ]
          },
          "metadata": {},
          "execution_count": 65
        }
      ],
      "source": [
        "# We can also write this in a single line!\n",
        "list(map(lambda x: x**2, range(1, 10)))"
      ]
    },
    {
      "cell_type": "code",
      "execution_count": 66,
      "metadata": {
        "id": "DTNuq98dCNqj",
        "outputId": "99cacb04-06db-4cfc-e885-593e93872975",
        "colab": {
          "base_uri": "https://localhost:8080/"
        }
      },
      "outputs": [
        {
          "output_type": "execute_result",
          "data": {
            "text/plain": [
              "[1, 3, 5, 7, 9]"
            ]
          },
          "metadata": {},
          "execution_count": 66
        }
      ],
      "source": [
        "# Return all values for which %2 is non zero.. (List of all odd numbers, right?)\n",
        "list(filter(lambda x: x%2, range(1, 10)))"
      ]
    },
    {
      "cell_type": "markdown",
      "metadata": {
        "id": "uDf3R29HCSIx"
      },
      "source": [
        "#### **Pure vs Impure Functions**\n",
        "Functions that don’t modify their arguments or produce any other side-effects are called *pure*.\n",
        "\n",
        "Functions that modify their arguments or cause other actions to occur are"
      ]
    },
    {
      "cell_type": "code",
      "execution_count": 70,
      "metadata": {
        "id": "ZFXukQonCSuA",
        "outputId": "174b5419-e045-4b4c-e9f8-f7b764c0449a",
        "colab": {
          "base_uri": "https://localhost:8080/"
        }
      },
      "outputs": [
        {
          "output_type": "stream",
          "name": "stdout",
          "text": [
            "['Niklas', 'Valérie']\n",
            "['Niklas']\n"
          ]
        }
      ],
      "source": [
        "# Impure Functions\n",
        "def remove_last_from_list(input_list):\n",
        "    input_list.pop()\n",
        "names = ['Niklas', 'Valérie', 'Marie-Élodie']\n",
        "remove_last_from_list(names)\n",
        "print(names)\n",
        "remove_last_from_list(names)\n",
        "print(names)"
      ]
    },
    {
      "cell_type": "code",
      "execution_count": 72,
      "metadata": {
        "id": "rWgib83NCVU9",
        "outputId": "f9d7b0cb-bce7-4243-dfbd-92300c43b170",
        "colab": {
          "base_uri": "https://localhost:8080/"
        }
      },
      "outputs": [
        {
          "output_type": "stream",
          "name": "stdout",
          "text": [
            "['Niklas', 'Valérie', 'Marie-Élodie']\n",
            "['Niklas', 'Valérie']\n"
          ]
        }
      ],
      "source": [
        "#We can do something similar with a pure function. In general, pure functions are safer and more reliable.\n",
        "def remove_last_from_list_pure(input_list):\n",
        "    new_list = input_list.copy()\n",
        "    new_list.pop()\n",
        "    return new_list\n",
        "\n",
        "names = ['Niklas', 'Valérie', 'Marie-Élodie']\n",
        "new_names = remove_last_from_list_pure(names)\n",
        "print(names)\n",
        "print(new_names)"
      ]
    },
    {
      "cell_type": "markdown",
      "metadata": {
        "id": "6H4j6r_-CZBJ"
      },
      "source": [
        "#### **Namespace**\n",
        "In python, a namespace is a mapping between variable names and python object. You can think of it like a dictionary.\n",
        "The namespace can change depending on where you are in your program. Functions can “see” the variables in the parent namespace, but they can also redefine them in a private scope.\n",
        "\n",
        "It's important that you be aware of the name spaces in your code, specially when dealing with mutable objects."
      ]
    },
    {
      "cell_type": "code",
      "execution_count": 74,
      "metadata": {
        "id": "Yc5umEuVCaQv",
        "outputId": "182f995d-8a6a-4f3e-9d01-fa4e3111afe5",
        "colab": {
          "base_uri": "https://localhost:8080/"
        }
      },
      "outputs": [
        {
          "output_type": "stream",
          "name": "stdout",
          "text": [
            "Tom\n",
            "Estelle\n",
            "Tom\n"
          ]
        }
      ],
      "source": [
        "name = 'Tom' # Enter your name here\n",
        "def print_name():\n",
        "    print(name)\n",
        "\n",
        "def print_name_v2():\n",
        "    name = 'Estelle'\n",
        "    print(name)\n",
        "\n",
        "print_name()\n",
        "print_name_v2()\n",
        "print(name)"
      ]
    },
    {
      "cell_type": "code",
      "execution_count": 75,
      "metadata": {
        "id": "Q-0HxsCmCbie"
      },
      "outputs": [],
      "source": [
        "friends_list = ['Mario', 'Florence', 'Richard']\n",
        "pet_tuple = ('Hedwig', 'Na-paw-lyon', 'Cat-hilda')"
      ]
    },
    {
      "cell_type": "code",
      "execution_count": 77,
      "metadata": {
        "id": "FkdM5aWnCcxh"
      },
      "outputs": [],
      "source": [
        "def greeter(friends, pets):\n",
        "    print(\"It's time to say hi to my friends.\")\n",
        "    [print(f'Hi {name}! ', end=\"\") for name in friends]\n",
        "    print('\\nThese are the names of my pets:')\n",
        "    [print(f'{pet} ', end=\"\") for pet in pets]\n",
        "    print('\\n')\n",
        "\n",
        "def pets_are_friends(friends, pets):\n",
        "    print(\"I consider both my pets and my friend's pets my friends!\")\n",
        "\n",
        "    #add friend's pets\n",
        "    full_pets = pets\n",
        "    full_pets += ('Clifford', 'Crookshanks')\n",
        "\n",
        "    full_friends_list = friends\n",
        "    full_friends_list.extend(full_pets)\n",
        "\n",
        "    print('These are all my friends:')\n",
        "    [print(f'{name} ', end=\"\") for name in full_friends_list]\n",
        "    print('\\n')"
      ]
    },
    {
      "cell_type": "code",
      "execution_count": 78,
      "metadata": {
        "id": "aI8z7gV0CebN",
        "outputId": "343c55df-6874-4baa-cbb6-97cb63a8873a",
        "colab": {
          "base_uri": "https://localhost:8080/"
        }
      },
      "outputs": [
        {
          "output_type": "stream",
          "name": "stdout",
          "text": [
            "It's time to say hi to my friends.\n",
            "Hi Mario! Hi Florence! Hi Richard! \n",
            "These are the names of my pets:\n",
            "Hedwig Na-paw-lyon Cat-hilda \n",
            "\n",
            "I consider both my pets and my friend's pets my friends!\n",
            "These are all my friends:\n",
            "Mario Florence Richard Hedwig Na-paw-lyon Cat-hilda Clifford Crookshanks \n",
            "\n",
            "It's time to say hi to my friends.\n",
            "Hi Mario! Hi Florence! Hi Richard! Hi Hedwig! Hi Na-paw-lyon! Hi Cat-hilda! Hi Clifford! Hi Crookshanks! \n",
            "These are the names of my pets:\n",
            "Hedwig Na-paw-lyon Cat-hilda \n",
            "\n"
          ]
        }
      ],
      "source": [
        "greeter(friends_list, pet_tuple)\n",
        "pets_are_friends(friends_list, pet_tuple)\n",
        "greeter(friends_list, pet_tuple)"
      ]
    },
    {
      "cell_type": "markdown",
      "metadata": {
        "id": "3pvm8Lo7Cgvi"
      },
      "source": [
        "### **Classes**\n",
        "We have worked with many different types of python objects so far:\n",
        "strings, lists, dictionaries, etc.\n",
        "These objects have different attributes and respond in different ways to\n",
        "the built-in functions (`len`, etc.)\n",
        "\n",
        "How can we make our own, custom objects? Answer: by defining classes."
      ]
    },
    {
      "cell_type": "markdown",
      "metadata": {
        "id": "tlhUVq_9Cp0J"
      },
      "source": [
        "#### **A class to represent a hurricane**\n",
        "\n",
        "Let's create our first class below,"
      ]
    },
    {
      "cell_type": "code",
      "execution_count": 79,
      "metadata": {
        "id": "WxZOIzTpChaH"
      },
      "outputs": [],
      "source": [
        "class Hurricane:\n",
        "\n",
        "    def __init__(self, name):\n",
        "        self.name = name"
      ]
    },
    {
      "cell_type": "markdown",
      "metadata": {
        "id": "fdFHL4vmC1xl"
      },
      "source": [
        "And now let's create an *instance* of that class, `h`:"
      ]
    },
    {
      "cell_type": "code",
      "execution_count": 80,
      "metadata": {
        "colab": {
          "base_uri": "https://localhost:8080/"
        },
        "id": "3DS4U1GuCwV3",
        "outputId": "42c19e26-991b-468e-df59-f9e0e228a648"
      },
      "outputs": [
        {
          "output_type": "stream",
          "name": "stdout",
          "text": [
            "<__main__.Hurricane object at 0x7f6bd2379250> florence\n"
          ]
        }
      ],
      "source": [
        "h = Hurricane('florence')\n",
        "print(h,h.name)"
      ]
    },
    {
      "cell_type": "markdown",
      "source": [
        "![image.png](data:image/png;base64,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)"
      ],
      "metadata": {
        "id": "x5676CD_iyMI"
      }
    },
    {
      "cell_type": "markdown",
      "metadata": {
        "id": "MCk7twL4C61s"
      },
      "source": [
        "Let’s add more, along with some input validation:\n"
      ]
    },
    {
      "cell_type": "code",
      "execution_count": 83,
      "metadata": {
        "id": "rhrtC-TJC5ta"
      },
      "outputs": [],
      "source": [
        "class Hurricane:\n",
        "\n",
        "    def __init__(self, name, category, lon):\n",
        "        self.name = name.upper()\n",
        "        self.category = int(category)\n",
        "\n",
        "        if lon > 180 or lon < -180:\n",
        "            raise ValueError(f'Invalid lon {lon}')\n",
        "        self.lon = lon"
      ]
    },
    {
      "cell_type": "code",
      "execution_count": 84,
      "metadata": {
        "id": "sLdd00qRC_F4",
        "outputId": "8ca482e7-63b0-4591-9d99-c424f820fb7e",
        "colab": {
          "base_uri": "https://localhost:8080/",
          "height": 297
        }
      },
      "outputs": [
        {
          "output_type": "stream",
          "name": "stdout",
          "text": [
            "<__main__.Hurricane object at 0x7f6bd237b020> FLORENCE\n"
          ]
        },
        {
          "output_type": "error",
          "ename": "ValueError",
          "evalue": "Invalid lon 300",
          "traceback": [
            "\u001b[0;31m---------------------------------------------------------------------------\u001b[0m",
            "\u001b[0;31mValueError\u001b[0m                                Traceback (most recent call last)",
            "\u001b[0;32m/tmp/ipython-input-494610403.py\u001b[0m in \u001b[0;36m<cell line: 0>\u001b[0;34m()\u001b[0m\n\u001b[1;32m      1\u001b[0m \u001b[0mh\u001b[0m \u001b[0;34m=\u001b[0m \u001b[0mHurricane\u001b[0m\u001b[0;34m(\u001b[0m\u001b[0;34m'florence'\u001b[0m\u001b[0;34m,\u001b[0m \u001b[0;36m4\u001b[0m\u001b[0;34m,\u001b[0m \u001b[0;34m-\u001b[0m\u001b[0;36m46\u001b[0m\u001b[0;34m)\u001b[0m\u001b[0;34m\u001b[0m\u001b[0;34m\u001b[0m\u001b[0m\n\u001b[1;32m      2\u001b[0m \u001b[0mprint\u001b[0m\u001b[0;34m(\u001b[0m\u001b[0mh\u001b[0m\u001b[0;34m,\u001b[0m\u001b[0mh\u001b[0m\u001b[0;34m.\u001b[0m\u001b[0mname\u001b[0m\u001b[0;34m)\u001b[0m\u001b[0;34m\u001b[0m\u001b[0;34m\u001b[0m\u001b[0m\n\u001b[0;32m----> 3\u001b[0;31m \u001b[0mh\u001b[0m \u001b[0;34m=\u001b[0m \u001b[0mHurricane\u001b[0m\u001b[0;34m(\u001b[0m\u001b[0;34m'Ida'\u001b[0m\u001b[0;34m,\u001b[0m \u001b[0;36m5\u001b[0m\u001b[0;34m,\u001b[0m \u001b[0;36m300\u001b[0m\u001b[0;34m)\u001b[0m\u001b[0;34m\u001b[0m\u001b[0;34m\u001b[0m\u001b[0m\n\u001b[0m",
            "\u001b[0;32m/tmp/ipython-input-1391673170.py\u001b[0m in \u001b[0;36m__init__\u001b[0;34m(self, name, category, lon)\u001b[0m\n\u001b[1;32m      6\u001b[0m \u001b[0;34m\u001b[0m\u001b[0m\n\u001b[1;32m      7\u001b[0m         \u001b[0;32mif\u001b[0m \u001b[0mlon\u001b[0m \u001b[0;34m>\u001b[0m \u001b[0;36m180\u001b[0m \u001b[0;32mor\u001b[0m \u001b[0mlon\u001b[0m \u001b[0;34m<\u001b[0m \u001b[0;34m-\u001b[0m\u001b[0;36m180\u001b[0m\u001b[0;34m:\u001b[0m\u001b[0;34m\u001b[0m\u001b[0;34m\u001b[0m\u001b[0m\n\u001b[0;32m----> 8\u001b[0;31m             \u001b[0;32mraise\u001b[0m \u001b[0mValueError\u001b[0m\u001b[0;34m(\u001b[0m\u001b[0;34mf'Invalid lon {lon}'\u001b[0m\u001b[0;34m)\u001b[0m\u001b[0;34m\u001b[0m\u001b[0;34m\u001b[0m\u001b[0m\n\u001b[0m\u001b[1;32m      9\u001b[0m         \u001b[0mself\u001b[0m\u001b[0;34m.\u001b[0m\u001b[0mlon\u001b[0m \u001b[0;34m=\u001b[0m \u001b[0mlon\u001b[0m\u001b[0;34m\u001b[0m\u001b[0;34m\u001b[0m\u001b[0m\n",
            "\u001b[0;31mValueError\u001b[0m: Invalid lon 300"
          ]
        }
      ],
      "source": [
        "h = Hurricane('florence', 4, -46)\n",
        "print(h,h.name)\n",
        "h = Hurricane('Ida', 5, 300)"
      ]
    },
    {
      "cell_type": "code",
      "execution_count": 85,
      "metadata": {
        "id": "cppN0ttsDAgE"
      },
      "outputs": [],
      "source": [
        "# Now let’s add a custom method:\n",
        "class Hurricane:\n",
        "\n",
        "    def __init__(self, name, category, lon):\n",
        "        self.name = name.upper()\n",
        "        self.category = int(category)\n",
        "\n",
        "        if lon > 180 or lon < -180:\n",
        "            raise ValueError(f'Invalid lon {lon}')\n",
        "        self.lon = lon\n",
        "\n",
        "    def is_dangerous(self):\n",
        "        return self.category > 1"
      ]
    },
    {
      "cell_type": "code",
      "execution_count": 86,
      "metadata": {
        "id": "Z0iAkf9LDB0c",
        "outputId": "0827e560-f5a3-4f49-8db0-7718ed5a32a8",
        "colab": {
          "base_uri": "https://localhost:8080/"
        }
      },
      "outputs": [
        {
          "output_type": "execute_result",
          "data": {
            "text/plain": [
              "True"
            ]
          },
          "metadata": {},
          "execution_count": 86
        }
      ],
      "source": [
        "f = Hurricane('florence', 4, -46)\n",
        "f.is_dangerous()"
      ]
    },
    {
      "cell_type": "markdown",
      "metadata": {
        "id": "upOCfE5jDEDr"
      },
      "source": [
        "#### **Magic / Dunder Methods**\n",
        "We can implement special methods that begin with double-underscores (i.e. “dunder” methods), which allow us to customize the behavior of our classes. ([Read more here](https://www.python-course.eu/python3_magic_methods.php)). We have already learned one: `__init__`. Let’s implement the `__repr__` method to make our class display something pretty."
      ]
    },
    {
      "cell_type": "code",
      "execution_count": 92,
      "metadata": {
        "id": "6U_YXzB6DEpL"
      },
      "outputs": [],
      "source": [
        "class Hurricane:\n",
        "\n",
        "    def __init__(self, name, category, lon):\n",
        "        self.name = name.upper()\n",
        "        self.category = int(category)\n",
        "\n",
        "        if lon > 180 or lon < -180:\n",
        "            raise ValueError(f'Invalid lon {lon}')\n",
        "        self.lon = lon\n",
        "\n",
        "    def __repr__(self):\n",
        "        return f\"<Hurricane {self.name} (cat {self.category})>\"\n",
        "\n",
        "    def is_dangerous(self):\n",
        "        return self.category > 1"
      ]
    },
    {
      "cell_type": "code",
      "execution_count": 93,
      "metadata": {
        "id": "SLxt3EqoDIAS",
        "outputId": "015f0de5-dbf4-43c6-8886-5265053669d9",
        "colab": {
          "base_uri": "https://localhost:8080/"
        }
      },
      "outputs": [
        {
          "output_type": "execute_result",
          "data": {
            "text/plain": [
              "<Hurricane FLORENCE (cat 7)>"
            ]
          },
          "metadata": {},
          "execution_count": 93
        }
      ],
      "source": [
        "f = Hurricane('florence', 7, -46)\n",
        "f"
      ]
    }
  ],
  "metadata": {
    "colab": {
      "name": "W1_S2_Tutorial.ipynb",
      "provenance": [],
      "toc_visible": true,
      "include_colab_link": true
    },
    "kernelspec": {
      "display_name": "myenv",
      "language": "python",
      "name": "python3"
    },
    "language_info": {
      "codemirror_mode": {
        "name": "ipython",
        "version": 3
      },
      "file_extension": ".py",
      "mimetype": "text/x-python",
      "name": "python",
      "nbconvert_exporter": "python",
      "pygments_lexer": "ipython3",
      "version": "3.8.18"
    }
  },
  "nbformat": 4,
  "nbformat_minor": 0
}