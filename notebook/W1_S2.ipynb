{
  "nbformat": 4,
  "nbformat_minor": 0,
  "metadata": {
    "colab": {
      "name": "W1_S2.ipynb",
      "provenance": [],
      "include_colab_link": true
    },
    "kernelspec": {
      "name": "python3",
      "display_name": "Python 3"
    },
    "language_info": {
      "name": "python"
    }
  },
  "cells": [
    {
      "cell_type": "markdown",
      "metadata": {
        "id": "view-in-github",
        "colab_type": "text"
      },
      "source": [
        "<a href=\"https://colab.research.google.com/github/Sbindola/2025_Intro_Python/blob/main/notebook/W1_S2.ipynb\" target=\"_parent\"><img src=\"https://colab.research.google.com/assets/colab-badge.svg\" alt=\"Open In Colab\"/></a>"
      ]
    },
    {
      "cell_type": "markdown",
      "source": [
        "# (Exercises) Simple Data Structures"
      ],
      "metadata": {
        "id": "9kmxOQ6qHj8X"
      }
    },
    {
      "cell_type": "markdown",
      "source": [
        "## Warm-up: Lists"
      ],
      "metadata": {
        "id": "iyJBbPOSAC3a"
      }
    },
    {
      "cell_type": "markdown",
      "source": [
        "1. Write out the following code without using a list comprehension:\\\n",
        "`plus_thirteen = [number + 13 for number in range(1,11)]`\n",
        "2. Use list comprehension or loops to create a list of first twenty cubes (i.e., `x^3 from 0-19`)"
      ],
      "metadata": {
        "id": "t4SvHV60ALnR"
      }
    },
    {
      "cell_type": "code",
      "source": [
        "# Question 1\n",
        "plus_thirteen = []\n",
        "for i in range(1,11):\n",
        "  plus_thirteen.append(i+13)\n",
        "print(plus_thirteen)"
      ],
      "metadata": {
        "id": "c88sWFwuyiy9",
        "colab": {
          "base_uri": "https://localhost:8080/"
        },
        "outputId": "ffe63a0b-7ac3-496e-c59f-27dbca154873"
      },
      "execution_count": null,
      "outputs": [
        {
          "output_type": "stream",
          "name": "stdout",
          "text": [
            "[14, 15, 16, 17, 18, 19, 20, 21, 22, 23]\n"
          ]
        }
      ]
    },
    {
      "cell_type": "code",
      "source": [
        "#@title ##### Your answer should look like this\n",
        "plus_thirteen = []\n",
        "for number in range(1,11):\n",
        "  plus_thirteen.append(number+13)\n",
        "print(plus_thirteen)"
      ],
      "metadata": {
        "cellView": "form",
        "id": "u6lOYAOfXk1I",
        "colab": {
          "base_uri": "https://localhost:8080/"
        },
        "outputId": "770839d2-4b83-43c4-e555-2744649149b1"
      },
      "execution_count": null,
      "outputs": [
        {
          "output_type": "stream",
          "name": "stdout",
          "text": [
            "[14, 15, 16, 17, 18, 19, 20, 21, 22, 23]\n"
          ]
        }
      ]
    },
    {
      "cell_type": "code",
      "source": [
        "# Question 2\n",
        "[i**3 for i in range(20)]"
      ],
      "metadata": {
        "id": "fwev9Agux5NM",
        "colab": {
          "base_uri": "https://localhost:8080/"
        },
        "outputId": "1ad32822-f31c-4229-ade0-86a17bdc7861"
      },
      "execution_count": null,
      "outputs": [
        {
          "output_type": "execute_result",
          "data": {
            "text/plain": [
              "[0,\n",
              " 1,\n",
              " 8,\n",
              " 27,\n",
              " 64,\n",
              " 125,\n",
              " 216,\n",
              " 343,\n",
              " 512,\n",
              " 729,\n",
              " 1000,\n",
              " 1331,\n",
              " 1728,\n",
              " 2197,\n",
              " 2744,\n",
              " 3375,\n",
              " 4096,\n",
              " 4913,\n",
              " 5832,\n",
              " 6859]"
            ]
          },
          "metadata": {},
          "execution_count": 3
        }
      ]
    },
    {
      "cell_type": "code",
      "source": [
        "#@title ##### Your answer should look like this\n",
        "[number**3 for number in range(20)]"
      ],
      "metadata": {
        "cellView": "form",
        "id": "ub-XfKBZXgFR",
        "colab": {
          "base_uri": "https://localhost:8080/"
        },
        "outputId": "7c8cb8f6-cd14-48fb-cca5-9b128385bc36"
      },
      "execution_count": null,
      "outputs": [
        {
          "output_type": "execute_result",
          "data": {
            "text/plain": [
              "[0,\n",
              " 1,\n",
              " 8,\n",
              " 27,\n",
              " 64,\n",
              " 125,\n",
              " 216,\n",
              " 343,\n",
              " 512,\n",
              " 729,\n",
              " 1000,\n",
              " 1331,\n",
              " 1728,\n",
              " 2197,\n",
              " 2744,\n",
              " 3375,\n",
              " 4096,\n",
              " 4913,\n",
              " 5832,\n",
              " 6859]"
            ]
          },
          "metadata": {},
          "execution_count": 4
        }
      ]
    },
    {
      "cell_type": "markdown",
      "source": [
        "### Part I: Lists and Loops\n",
        "\n",
        "\n",
        "Q1.   Create a list with the names of every planet in the solar system (in order)\\\n",
        "Q2.   Have Python tell you how many planets there are by examining your list\\\n",
        "Q3.   Use slicing to display the first four planets (the rocky planets)\\\n",
        "Q4.   Iterate through your planets and print the planet name only if it has an `s` at the end\n"
      ],
      "metadata": {
        "id": "PakvfDxNDqoh"
      }
    },
    {
      "cell_type": "markdown",
      "source": [
        "**Q1.   Create a list with the names of every planet in the solar system (in order)**"
      ],
      "metadata": {
        "id": "i7Rdq-V_thPi"
      }
    },
    {
      "cell_type": "code",
      "source": [
        "# Create your list here\n",
        "planetlist = ['Mercury','Venus','Earth','Mars','Jupiter','Saturn','Uranus','Neptune']"
      ],
      "metadata": {
        "id": "kBk7sj8stf4q"
      },
      "execution_count": null,
      "outputs": []
    },
    {
      "cell_type": "markdown",
      "source": [
        "**Q2.   Have Python tell you how many planets there are by examining your list**"
      ],
      "metadata": {
        "id": "E_p79oZ4tmjp"
      }
    },
    {
      "cell_type": "code",
      "source": [
        "# Write your code here\n",
        "# Hint: Use len() function\n",
        "# Answer: you should get a single number of 8\n",
        "print(len(planetlist))"
      ],
      "metadata": {
        "id": "INbwC3OSttIQ",
        "colab": {
          "base_uri": "https://localhost:8080/"
        },
        "outputId": "160cb06b-c56c-49b9-d598-2eae5f8c648a"
      },
      "execution_count": null,
      "outputs": [
        {
          "output_type": "stream",
          "name": "stdout",
          "text": [
            "8\n"
          ]
        }
      ]
    },
    {
      "cell_type": "markdown",
      "source": [
        "**Q3.   Use slicing to display the first four planets (the rocky planets)**\n"
      ],
      "metadata": {
        "id": "RCdn-rBMtvhP"
      }
    },
    {
      "cell_type": "code",
      "source": [
        "# Write your code here\n",
        "planetlist[:4]"
      ],
      "metadata": {
        "id": "tIArigiRt0X_",
        "colab": {
          "base_uri": "https://localhost:8080/"
        },
        "outputId": "314155e8-2173-4c93-dbae-6fe5f75fb473"
      },
      "execution_count": null,
      "outputs": [
        {
          "output_type": "execute_result",
          "data": {
            "text/plain": [
              "['Mercury', 'Venus', 'Earth', 'Mars']"
            ]
          },
          "metadata": {},
          "execution_count": 7
        }
      ]
    },
    {
      "cell_type": "markdown",
      "source": [
        "**Q4.   Iterate through your planets and print the planet name only if it has an `s` at the end**\n"
      ],
      "metadata": {
        "id": "8Oy6N-VWt5PH"
      }
    },
    {
      "cell_type": "code",
      "source": [
        "# Write your code here\n",
        "# Hint: Access the final letter of every planet (planet[-1]), print planet name if the letter equals to \"s\", continue with the loop otherwise.\n",
        "# Answers:\n",
        "# venus\n",
        "# mars\n",
        "# uranus\n",
        "\n",
        "for planet in planetlist:\n",
        "  if planet[-1]=='s':\n",
        "    print(planet)\n",
        "  else:\n",
        "    continue"
      ],
      "metadata": {
        "id": "l1jiMBNFt2uu",
        "colab": {
          "base_uri": "https://localhost:8080/"
        },
        "outputId": "daae3d02-921c-4bd8-d3b3-aa4676845302"
      },
      "execution_count": null,
      "outputs": [
        {
          "output_type": "stream",
          "name": "stdout",
          "text": [
            "Venus\n",
            "Mars\n",
            "Uranus\n"
          ]
        }
      ]
    },
    {
      "cell_type": "markdown",
      "source": [
        "### Part II: Dictionary"
      ],
      "metadata": {
        "id": "t22s92xwDuE5"
      }
    },
    {
      "cell_type": "markdown",
      "source": [
        "**Q5) Now create a dictionary that maps each planet name to its mass**\n",
        "\n",
        "You can use values from this [NASA](https://nssdc.gsfc.nasa.gov/planetary/factsheet/) fact sheet. You can use whatever units you want, but please be consistent."
      ],
      "metadata": {
        "id": "D8JGILoCDzQS"
      }
    },
    {
      "cell_type": "code",
      "source": [
        "# Write your code here\n",
        "planetdict = {'mercury':0.33,'venus':4.87,'earth':5.97,\n",
        "              'mars':0.642,'jupiter':1898,'saturn':568,'uranus':86,'neptune':102}"
      ],
      "metadata": {
        "id": "jCtX4V2ot_o-"
      },
      "execution_count": null,
      "outputs": []
    },
    {
      "cell_type": "markdown",
      "source": [
        "**Q6) Use your dictionary to look up Earth’s mass**"
      ],
      "metadata": {
        "id": "Ek5Se2lrD5Iz"
      }
    },
    {
      "cell_type": "code",
      "source": [
        "# Write your code here\n",
        "print(planetdict['earth'])"
      ],
      "metadata": {
        "id": "yTTxpnnPuAof",
        "colab": {
          "base_uri": "https://localhost:8080/"
        },
        "outputId": "ab37fa62-2ff2-4200-8565-38d562175906"
      },
      "execution_count": null,
      "outputs": [
        {
          "output_type": "stream",
          "name": "stdout",
          "text": [
            "5.97\n"
          ]
        }
      ]
    },
    {
      "cell_type": "markdown",
      "source": [
        "**Q7) Loop through the data to create and display a list of planets whose mass is greater than $100 \\times 10^{24}$ kg**"
      ],
      "metadata": {
        "id": "BkHvojwuD777"
      }
    },
    {
      "cell_type": "code",
      "source": [
        "# Write your code here\n",
        "# In the parentheses, you will access the names (keys) of each entry in the dictionary.\n",
        "# You should see this: ['jupiter', 'saturn', 'nepturn']\n",
        "q7list = []\n",
        "for key in list(planetdict.keys()):\n",
        "  # Now you wil access the values associated with each key-value pair\n",
        "  if planetdict[key]>100:\n",
        "    q7list.append(key) # the name of each planet\n",
        "  else:\n",
        "    continue\n",
        "print(q7list)"
      ],
      "metadata": {
        "id": "UmQfeDqruBPm",
        "colab": {
          "base_uri": "https://localhost:8080/"
        },
        "outputId": "17cb5764-4bb9-4df6-a819-88a85496a544"
      },
      "execution_count": null,
      "outputs": [
        {
          "output_type": "stream",
          "name": "stdout",
          "text": [
            "['jupiter', 'saturn', 'neptune']\n"
          ]
        }
      ]
    },
    {
      "cell_type": "markdown",
      "source": [
        "**Q8) Now add Pluto to your dictionary**"
      ],
      "metadata": {
        "id": "n-dsPPdSEBoo"
      }
    },
    {
      "cell_type": "code",
      "source": [
        "# Write your code here\n",
        "# You should see this: ['mercury', 'venus', 'earth', 'mars', 'jupiter', 'saturn', 'uranus', 'nepturn', 'pluto']\n",
        "planetdict['pluto'] = (0.01)\n",
        "print(planetdict.keys())\n",
        "print(planetdict['pluto'])"
      ],
      "metadata": {
        "id": "h6D5L6JtuB3W",
        "colab": {
          "base_uri": "https://localhost:8080/"
        },
        "outputId": "cef42815-0f57-4cfd-ad37-36d34e6dcc72"
      },
      "execution_count": null,
      "outputs": [
        {
          "output_type": "stream",
          "name": "stdout",
          "text": [
            "dict_keys(['mercury', 'venus', 'earth', 'mars', 'jupiter', 'saturn', 'uranus', 'neptune', 'pluto'])\n",
            "0.01\n"
          ]
        }
      ]
    },
    {
      "cell_type": "markdown",
      "source": [
        "### Part III: Functions"
      ],
      "metadata": {
        "id": "mdAToOSvEG6f"
      }
    },
    {
      "cell_type": "markdown",
      "source": [
        "**Q9) Write a function to convert from the unit you chose for planetary masses to $M_{Earth}$, the mass of the Earth**\n",
        "\n",
        "For example, the mass of Jupiter is:\n",
        "\n",
        "$M_{Jupiter} \\approx 1898\\times10^{24}kg \\approx 318 M_{Earth}$"
      ],
      "metadata": {
        "id": "ROIndYqvEOeH"
      }
    },
    {
      "cell_type": "code",
      "source": [
        "#write function here\n",
        "# Write your function here\n",
        "# The function should take in the any planet mass you want (e.g., planetdict['mars']) and divide by the mass of Earth\n",
        "# (planetdict['earth'])\n",
        "def convert_mass_Mearth(planet_mass):\n",
        "  return planet_mass/planetdict['earth']\n",
        "\n",
        "#test it works for jupiter (planetdict['jupiter']), the function should output 317.92294807370183\n",
        "convert_mass_Mearth(planetdict['jupiter'])"
      ],
      "metadata": {
        "id": "2q8fjUWmERVM",
        "colab": {
          "base_uri": "https://localhost:8080/"
        },
        "outputId": "97158f9a-7e3d-4a8a-9fd6-53eaee9930d3"
      },
      "execution_count": null,
      "outputs": [
        {
          "output_type": "execute_result",
          "data": {
            "text/plain": [
              "317.92294807370183"
            ]
          },
          "metadata": {},
          "execution_count": 13
        }
      ]
    },
    {
      "cell_type": "markdown",
      "source": [
        "**Q10) Now write a single function that can convert from the unit you chose for planetary masses to both $M_{Earth}$ or $M_{Jupiter}$ depending on the keyword argument you specify**"
      ],
      "metadata": {
        "id": "0sMvjuphETEM"
      }
    },
    {
      "cell_type": "code",
      "source": [
        "# Write your function here\n",
        "def convert_m_Mearthjupiter(planet_mass,ourplanet='jupiter'):\n",
        "  return planet_mass/planetdict[ourplanet]\n",
        "\n",
        "# Check if your function work: convert Mjupiter to Mearth and Mjupiter,\n",
        "# You should see 317.923 (Mearth) and 1.0 (Mjupiter)\n",
        "print(convert_m_Mearthjupiter(planetdict['jupiter'],ourplanet='earth'),convert_m_Mearthjupiter(planetdict['jupiter'],ourplanet='jupiter'))"
      ],
      "metadata": {
        "id": "1sMWhXR8DrbQ",
        "colab": {
          "base_uri": "https://localhost:8080/"
        },
        "outputId": "93287810-1e62-4f01-c86e-f14cccd3565f"
      },
      "execution_count": null,
      "outputs": [
        {
          "output_type": "stream",
          "name": "stdout",
          "text": [
            "317.92294807370183 1.0\n"
          ]
        }
      ]
    },
    {
      "cell_type": "code",
      "source": [
        "# Store the Mjupiter for Q11\n",
        "Mjupiter = convert_m_Mearthjupiter(planetdict['jupiter'],'earth')\n",
        "print(Mjupiter)"
      ],
      "metadata": {
        "id": "-jLtgEdVsuAk",
        "colab": {
          "base_uri": "https://localhost:8080/"
        },
        "outputId": "49a46668-cb8b-4148-950a-854e4ed8e384"
      },
      "execution_count": null,
      "outputs": [
        {
          "output_type": "stream",
          "name": "stdout",
          "text": [
            "317.92294807370183\n"
          ]
        }
      ]
    },
    {
      "cell_type": "markdown",
      "source": [
        "**Q11) Write a function takes one argument (mass in $M_{Jupiter}$) and returns two arguments (mass in $M_{Earth}$ and mass in the unit you chose [whichever planet you want])**"
      ],
      "metadata": {
        "id": "I4P1udcPEXrc"
      }
    },
    {
      "cell_type": "code",
      "source": [
        "# Write your function here\n",
        "def mass_conversion_two_arguments(Mjupiter,planet='mars'):\n",
        "  \"\"\"\n",
        "  Convert a given mass (in MJupiter) into:\n",
        "  1) MEarth (Earth masses)\n",
        "  2) masses of another planet (default: Mars)\n",
        "  \"\"\"\n",
        "  a = Mjupiter/planetdict['earth'] # Earth\n",
        "  b = Mjupiter/planetdict[planet] # The planet you want to use as a reference\n",
        "  return a,b\n",
        "# Check that it works to convert Jupiter's mass to $M_{Earth}$ and to\n",
        "# the unit you chose (e.g., Mars' planet)\n",
        "print(mass_conversion_two_arguments(Mjupiter,'mars'))"
      ],
      "metadata": {
        "id": "ysKxqLEdDkVE",
        "colab": {
          "base_uri": "https://localhost:8080/"
        },
        "outputId": "15d92074-280f-41b5-e9f7-2db9f5a3b943"
      },
      "execution_count": null,
      "outputs": [
        {
          "output_type": "stream",
          "name": "stdout",
          "text": [
            "(53.25342513797351, 495.20708422694986)\n"
          ]
        }
      ]
    },
    {
      "cell_type": "code",
      "source": [
        "# Bonus: Use the function from Q10 to convert Neptune's mass to $M_{Jupiter}$\n",
        "Nep_mass_jup = convert_m_Mearthjupiter(planetdict['neptune'],'jupiter')\n",
        "print(Nep_mass_jup)\n",
        "# and then the function from Q11 to convert it back to the unit you chose\n",
        "Neptune_mass = mass_conversion_two_arguments(Nep_mass_jup,'neptune')\n",
        "print(Neptune_mass)\n",
        "# Do you get the original value back?"
      ],
      "metadata": {
        "id": "HYEOb0_MEZ6R",
        "colab": {
          "base_uri": "https://localhost:8080/"
        },
        "outputId": "4bf91a85-5dcb-41d3-9d40-c273b0fdda04"
      },
      "execution_count": null,
      "outputs": [
        {
          "output_type": "stream",
          "name": "stdout",
          "text": [
            "0.05374077976817703\n",
            "(0.009001805656311061, 0.0005268703898840886)\n"
          ]
        }
      ]
    },
    {
      "cell_type": "markdown",
      "source": [
        "### Part IV: Classes"
      ],
      "metadata": {
        "id": "nDLl3L13EhcT"
      }
    },
    {
      "cell_type": "markdown",
      "source": [
        "**Q12) Write a class `planet` with two attributes: `name` and `mass`**"
      ],
      "metadata": {
        "id": "aLPRglSDEl5r"
      }
    },
    {
      "cell_type": "code",
      "source": [
        "# Write your class here\n",
        "class planet:\n",
        "  def __init__(self,inname=None,inmass=None):\n",
        "    self.name = inname\n",
        "    self.mass = inmass\n",
        "# Create a new instance of that class to represent the Earth (mass=5.97)\n",
        "earth = planet('Earth',5.97)\n",
        "# Create a new instance of that class to represent Jupiter (mass=1898)\n",
        "jupiter = planet('Jupiter',1898)"
      ],
      "metadata": {
        "id": "aG9kqSo0EsSL"
      },
      "execution_count": null,
      "outputs": []
    },
    {
      "cell_type": "code",
      "source": [
        "# How to check that you did the right thing?\n",
        "print(earth.name,earth.mass)"
      ],
      "metadata": {
        "id": "mRBpmVbJvSrZ",
        "colab": {
          "base_uri": "https://localhost:8080/"
        },
        "outputId": "76d82643-9163-418c-d797-4878aaaabff9"
      },
      "execution_count": null,
      "outputs": [
        {
          "output_type": "stream",
          "name": "stdout",
          "text": [
            "Earth 5.97\n"
          ]
        }
      ]
    },
    {
      "cell_type": "markdown",
      "source": [
        "**Q13) Add a custom method `is_light` to the class `planet` that returns `True` if the planet is strictly lighter than Jupiter, `False` strictly heavier than Jupiter, and 'same mass!' if the planet weighs the same as jupiter**"
      ],
      "metadata": {
        "id": "cdgJ21kNEtI3"
      }
    },
    {
      "cell_type": "code",
      "source": [
        "# Change your class here\n",
        "class planet:\n",
        "  def __init__(self,inname=None,inmass=None):\n",
        "    self.name = inname\n",
        "    self.mass = inmass\n",
        "  def is_light(self):\n",
        "    if self.mass<planetdict['jupiter']:\n",
        "      print('True')\n",
        "    elif self.mass>planetdict['jupiter']:\n",
        "      print('False')\n",
        "    else:\n",
        "      print('same mass!')\n",
        "\n",
        "# Ask Python whether the Earth is lighter than Jupiter, you should see True for this one!\n",
        "planet('Earth',planetdict['earth']).is_light()\n",
        "# Ask Python whether Jupiter is lighter than itself, you should see same mass! for this one!\n",
        "planet('Jupiter',planetdict['jupiter']).is_light()\n"
      ],
      "metadata": {
        "id": "8-me3TTDEyFZ",
        "colab": {
          "base_uri": "https://localhost:8080/"
        },
        "outputId": "76e5d66a-ca9e-475f-969e-ca66e42bfb4b"
      },
      "execution_count": null,
      "outputs": [
        {
          "output_type": "stream",
          "name": "stdout",
          "text": [
            "True\n",
            "same mass!\n"
          ]
        }
      ]
    },
    {
      "cell_type": "markdown",
      "source": [
        "![image.png](data:image/png;base64,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)"
      ],
      "metadata": {
        "id": "HSSvBx1u78aU"
      }
    },
    {
      "cell_type": "code",
      "source": [],
      "metadata": {
        "id": "JZ1zy-7G_eCU"
      },
      "execution_count": null,
      "outputs": []
    },
    {
      "cell_type": "markdown",
      "source": [
        "\n",
        "xxx\n",
        "\n",
        "\n",
        "\n",
        "\n",
        "xxx\n",
        "\n",
        "xxx\n",
        "xxx\n",
        "xx\n",
        "xx"
      ],
      "metadata": {
        "id": "A5Ox-FFL_Tzv"
      }
    }
  ]
}